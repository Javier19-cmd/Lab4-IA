{
 "cells": [
  {
   "attachments": {},
   "cell_type": "markdown",
   "metadata": {},
   "source": [
    "# Laboratorio 4 \n",
    "\n",
    "#### Javier Valle 20159"
   ]
  },
  {
   "cell_type": "code",
   "execution_count": 16,
   "metadata": {},
   "outputs": [],
   "source": [
    "# Imports necesarios.\n",
    "import numpy as np\n",
    "import matplotlib.pyplot as plt\n",
    "import linreg as l\n",
    "import quad as q"
   ]
  },
  {
   "attachments": {},
   "cell_type": "markdown",
   "metadata": {},
   "source": [
    "# Task 1.1: Leer el archivo CSV proporcionado y almacenarlo en un np.array para ser trabajado en el notebook.\n"
   ]
  },
  {
   "cell_type": "code",
   "execution_count": null,
   "metadata": {},
   "outputs": [],
   "source": [
    "# Abriendo el csv.\n",
    "data = np.genfromtxt('framingham.csv', delimiter=',')\n",
    "\n",
    "# Quitando la fila de los nan.\n",
    "data = data[1:, :]\n",
    "\n",
    "# Imprimiendo los datos.\n",
    "print(data)"
   ]
  },
  {
   "attachments": {},
   "cell_type": "markdown",
   "metadata": {},
   "source": [
    "# Task 1.2: Ajustar un modelo logístico polinomial en base al juego de datos cargado de forma matricial que relaciona las variables independientes que usted considere apropiadas (puede no utilizar todas las componentes de X), con la variable dependiente de salida (sufre o no sufre un paro cardíaco)."
   ]
  },
  {
   "cell_type": "code",
   "execution_count": 145,
   "metadata": {},
   "outputs": [
    {
     "data": {
      "image/png": "[encoded data removed]",
      "text/plain": [
       "<Figure size 640x480 with 1 Axes>"
      ]
     },
     "metadata": {},
     "output_type": "display_data"
    }
   ],
   "source": [
    "# Variable dependiente: sufre o no un paro cardíaco. (Posición 13). Variable independiente: BMI. (Posición 12)\n",
    "# Manipulando los datos.\n",
    "\n",
    "# Fuma o no.\n",
    "X = data[:,4]\n",
    "\n",
    "# sufrió o no un paro cardíaco.\n",
    "y = data[:,14]\n",
    "\n",
    "# Heartrate.\n",
    "x = data[:,12]\n",
    "\n",
    "# Sufrió o no un paro cardíaco.\n",
    "y = data[:,14]\n",
    "\n",
    "# Graficando si fuma vs si tuvo algún problema cardiovascular.\n",
    "plt.scatter(X, y, color=\"red\")\n",
    "plt.scatter(x, y, color=\"blue\")\n",
    "plt.show()\n",
    "\n"
   ]
  },
  {
   "attachments": {},
   "cell_type": "markdown",
   "metadata": {},
   "source": [
    "# Task 1.3: Utilice la implementación vectorial del algoritmo de regresión logística (descenso del gradiente visto en clase)"
   ]
  },
  {
   "cell_type": "code",
   "execution_count": null,
   "metadata": {},
   "outputs": [],
   "source": [
    "# Variable dependiente: sufre o no un paro cardíaco. (Posición 13). Variable independiente: BMI. (Posición 12)\n",
    "# Manipulando los datos.\n",
    "\n",
    "# sufre o no un paro cardíaco.\n",
    "X = data[:,4]\n",
    "\n",
    "# BMI.\n",
    "y = data[:,14]\n",
    "\n",
    "# Quitando los NaN de X y y.\n",
    "X = X[~np.isnan(X)]\n",
    "y = y[~np.isnan(y)]\n",
    "\n",
    "# Haciendo un reshape a X y y.\n",
    "X = X.reshape((-1, 1))\n",
    "y = y.reshape((-1, 1))\n",
    "\n",
    "# # Igualando el tamaño de X y y.\n",
    "# X = X[:len(y)]\n",
    "# y = y[:len(X)]\n",
    "\n",
    "print(\"X: \", X)\n",
    "print(\"X: \", len(X))\n",
    "print(\"y: \", y)\n",
    "print(\"y: \", len(y))\n",
    "\n",
    "# Agregando ceros en caso de que hagan falta en X y y.\n",
    "if len(X) > len(y):\n",
    "    y = np.vstack((y, np.zeros((len(X) - len(y), 1))))\n",
    "elif len(y) > len(X):\n",
    "    X = np.vstack((X, np.zeros((len(y) - len(X), 1))))\n",
    "\n",
    "\n",
    "# # Calculando Xr.\n",
    "# Xr = np.hstack((\n",
    "#     np.ones((len(X), 1)),\n",
    "#     X\n",
    "# ))\n",
    "\n",
    "# Agregando una columna de unos para hacer un bias en los cálculos.\n",
    "Xr = np.hstack((np.ones_like(X), X))\n",
    "\n",
    "# Calculando el theta inicial.\n",
    "to = np.random.rand(Xr.shape[1], 1) # Theta inicial.\n",
    "\n",
    "to = to[~np.isnan(to)]\n",
    "\n",
    "# Haciendo reshape a to.\n",
    "to = to.reshape((len(to), 1))\n",
    "\n",
    "# Calculando el costo y el gradiente.\n",
    "tf, costs = l.linear_regression(\n",
    "    Xr,\n",
    "    y,\n",
    "    to,\n",
    "    q.cost,\n",
    "    q.grad,\n",
    "    a=0.00001,\n",
    "    n=1000\n",
    ")\n",
    "\n",
    "xm = np.array([[0], [len(X)]])\n",
    "xmr = np.hstack((\n",
    "    np.ones((2, 1)),\n",
    "    xm\n",
    "))\n",
    "\n",
    "ym = xmr @ tf # Pendiente de la recta a utilizar.\n",
    "\n",
    "\n",
    "# print(\"ym: \", ym)\n",
    "# print(\"xmr: \", xmr)\n",
    "# print(\"xm: \", xm)\n",
    "# print(\"tf: \", tf)\n",
    "\n",
    "# Graficando los resultados.\n",
    "plt.plot(X, y, \"ro\")\n",
    "plt.plot(xm, ym)\n",
    "plt.show()\n",
    "\n",
    "# Costo.\n",
    "plt.plot(costs, color=\"green\")\n",
    "plt.show()"
   ]
  }
 ],
 "metadata": {
  "kernelspec": {
   "display_name": "Python 3",
   "language": "python",
   "name": "python3"
  },
  "language_info": {
   "codemirror_mode": {
    "name": "ipython",
    "version": 3
   },
   "file_extension": ".py",
   "mimetype": "text/x-python",
   "name": "python",
   "nbconvert_exporter": "python",
   "pygments_lexer": "ipython3",
   "version": "3.10.10"
  },
  "orig_nbformat": 4
 },
 "nbformat": 4,
 "nbformat_minor": 2
}
